{
  "cells": [
    {
      "cell_type": "code",
      "execution_count": null,
      "metadata": {
        "id": "hK3E6h0UcPf3"
      },
      "outputs": [],
      "source": []
    },
    {
      "cell_type": "markdown",
      "metadata": {
        "id": "rpk1rN7vlmVs"
      },
      "source": [
        "## TUGAS PRAKTIKUM PERTEMUAN 1\n",
        "* Nama : Ahmad Irvandi\n",
        "* NPM  : 2117051089\n",
        "* Kelas : B"
      ]
    },
    {
      "cell_type": "markdown",
      "metadata": {
        "id": "hfeM18IqdAbI"
      },
      "source": [
        "# Pertemuan 1\n",
        "\n",
        "* Pemograman Dasar di Python"
      ]
    },
    {
      "cell_type": "markdown",
      "metadata": {
        "id": "1Oxq0aw1drue"
      },
      "source": [
        "## Variable \n",
        "Deklarasi nilai kedalam variabel"
      ]
    },
    {
      "cell_type": "code",
      "execution_count": null,
      "metadata": {
        "colab": {
          "base_uri": "https://localhost:8080/"
        },
        "id": "F_tKo4VVd8x1",
        "outputId": "652d9655-e041-46d4-8726-e0962b790011"
      },
      "outputs": [
        {
          "name": "stdout",
          "output_type": "stream",
          "text": [
            "8\n",
            "Output : 8\n"
          ]
        }
      ],
      "source": [
        "#input \"8\" kedalam variabel A\n",
        "A = 8\n",
        "print(A)\n",
        "print(\"Output :\", A)"
      ]
    },
    {
      "cell_type": "code",
      "execution_count": null,
      "metadata": {
        "colab": {
          "base_uri": "https://localhost:8080/"
        },
        "id": "_3S9yziReRXd",
        "outputId": "12266dfb-3cb4-4e45-c1fa-f22dddb339e5"
      },
      "outputs": [
        {
          "name": "stdout",
          "output_type": "stream",
          "text": [
            "8\n",
            "<class 'str'>\n",
            "8\n",
            "<class 'int'>\n"
          ]
        }
      ],
      "source": [
        "A = \"8\"\n",
        "print(A)\n",
        "print(type(A))\n",
        "B = int(A)\n",
        "print(B)\n",
        "print(type(B))"
      ]
    },
    {
      "cell_type": "code",
      "execution_count": null,
      "metadata": {
        "colab": {
          "base_uri": "https://localhost:8080/"
        },
        "id": "4FSSB0m5fyo4",
        "outputId": "337b7c3e-41a2-4a78-c4ba-5b94ee234ed9"
      },
      "outputs": [
        {
          "name": "stdout",
          "output_type": "stream",
          "text": [
            "[70, 80, 90, 100, 85]\n"
          ]
        }
      ],
      "source": [
        "# input nilai sebagai list\n",
        "nilai = [70,80,90,100,85]\n",
        "print(nilai)\n",
        "#nilai"
      ]
    },
    {
      "cell_type": "code",
      "execution_count": null,
      "metadata": {
        "colab": {
          "base_uri": "https://localhost:8080/"
        },
        "id": "lc6anKBJgNiB",
        "outputId": "183b9564-c3b2-4b9c-8416-5ee18140420c"
      },
      "outputs": [
        {
          "name": "stdout",
          "output_type": "stream",
          "text": [
            "[80, 'A', 'Joni']\n"
          ]
        }
      ],
      "source": [
        "data = [80,\"A\",\"Joni\"]\n",
        "print(data)"
      ]
    },
    {
      "cell_type": "markdown",
      "metadata": {
        "id": "lfWp_2sFhHdm"
      },
      "source": [
        "## Conditional\n",
        "* Mengeksekusi nilai berdasarkan kondisi"
      ]
    },
    {
      "cell_type": "code",
      "execution_count": null,
      "metadata": {
        "colab": {
          "base_uri": "https://localhost:8080/"
        },
        "id": "7QFxNpLihTQN",
        "outputId": "3b008a7e-4bb4-4780-e111-aff74e72003c"
      },
      "outputs": [
        {
          "name": "stdout",
          "output_type": "stream",
          "text": [
            "nilai 7 tidak sama dengan nilai A yang mana adalah 8\n"
          ]
        }
      ],
      "source": [
        "if 7 == A:\n",
        "    print(\"nilai 7 sama dengan nilai A yang mana adalah\", A)\n",
        "else:\n",
        "    print(\"nilai 7 tidak sama dengan nilai A yang mana adalah\",A)"
      ]
    },
    {
      "cell_type": "code",
      "execution_count": null,
      "metadata": {
        "colab": {
          "base_uri": "https://localhost:8080/"
        },
        "id": "urGqXIkUiDlR",
        "outputId": "37db4999-5f40-4b4e-8ce9-ca506ba98106"
      },
      "outputs": [
        {
          "name": "stdout",
          "output_type": "stream",
          "text": [
            "ada nilai 70 didalam list\n"
          ]
        }
      ],
      "source": [
        "# mengecek nilai didalam list\n",
        "if 70 in nilai:\n",
        "    print(\"ada nilai 70 didalam list\")\n",
        "else:\n",
        "    print(\"tidak ada didalam list\")"
      ]
    },
    {
      "cell_type": "markdown",
      "metadata": {
        "id": "jOizLIMci-HD"
      },
      "source": [
        "## Looping\n",
        "* Mengeksekusi nilai berdasarkan perulangan"
      ]
    },
    {
      "cell_type": "code",
      "execution_count": null,
      "metadata": {
        "colab": {
          "base_uri": "https://localhost:8080/"
        },
        "id": "iBwtNRAgjF_M",
        "outputId": "45bdf74f-b81b-4602-9dce-1e736542e2d0"
      },
      "outputs": [
        {
          "name": "stdout",
          "output_type": "stream",
          "text": [
            "0\n",
            "2\n",
            "4\n",
            "6\n",
            "8\n",
            "10\n",
            "12\n",
            "14\n",
            "16\n",
            "18\n"
          ]
        }
      ],
      "source": [
        "# mencetak perkalian angka 2 dengan angka 0 sampai 10\n",
        "for i in range(10):\n",
        "    print(i*2)"
      ]
    },
    {
      "cell_type": "markdown",
      "metadata": {
        "id": "x44AIEGKj5Hs"
      },
      "source": [
        "## Function"
      ]
    },
    {
      "cell_type": "markdown",
      "metadata": {
        "id": "oL3zJEGFj8Rm"
      },
      "source": [
        "## User Define Function"
      ]
    },
    {
      "cell_type": "code",
      "execution_count": null,
      "metadata": {
        "colab": {
          "base_uri": "https://localhost:8080/"
        },
        "id": "1AQ0BMLikNfh",
        "outputId": "ff5de8b3-4574-4074-ebf1-be0207ef637d"
      },
      "outputs": [
        {
          "name": "stdout",
          "output_type": "stream",
          "text": [
            "A\n"
          ]
        }
      ],
      "source": [
        "# fungsi mencetak suat nilai\n",
        "def cetak_a():\n",
        "    print(\"A\")\n",
        "\n",
        "# panggil fungsi cetak_a\n",
        "cetak_a()"
      ]
    },
    {
      "cell_type": "code",
      "execution_count": null,
      "metadata": {
        "colab": {
          "base_uri": "https://localhost:8080/"
        },
        "id": "JxL1DHYwkjIu",
        "outputId": "9a0e1b88-17d9-4a74-d0ca-09b18177b2c3"
      },
      "outputs": [
        {
          "data": {
            "text/plain": [
              "16"
            ]
          },
          "execution_count": 11,
          "metadata": {},
          "output_type": "execute_result"
        }
      ],
      "source": [
        "# fungsi yang mengembalikan suatu nilai dari suatu masukan\n",
        "def cetak_pangkat_dua(x):\n",
        "    x = x**2\n",
        "    return x\n",
        "\n",
        "#panggil fungsi cetak_pangkat_dua dengan inputan tertentu\n",
        "cetak_pangkat_dua(4)"
      ]
    },
    {
      "cell_type": "markdown",
      "metadata": {
        "id": "hlQNfCZol72b"
      },
      "source": [
        "## Built-in Function\n",
        "* memanggil fungsi bawaan dari Python"
      ]
    },
    {
      "cell_type": "code",
      "execution_count": null,
      "metadata": {
        "colab": {
          "base_uri": "https://localhost:8080/"
        },
        "id": "LT4aXK6vmFK3",
        "outputId": "82a75e93-4ac8-4b87-841f-0c381ef72fd4"
      },
      "outputs": [
        {
          "name": "stdout",
          "output_type": "stream",
          "text": [
            "5\n",
            "100\n"
          ]
        }
      ],
      "source": [
        "nilai = [70,80,90,100,85]\n",
        "# memanggil fungsi len untuk mencetak jumlah item dari list\n",
        "print(len(nilai))\n",
        "\n",
        "# memanggil fungsi max untuk mencetak nilai terbesar dari list\n",
        "print(max(nilai))\n",
        "\n",
        "#untuk tahu fungsi bawaan dari library yang ada perlu baca dokumentasinya\n"
      ]
    },
    {
      "cell_type": "markdown",
      "metadata": {
        "id": "erl34wuDnPjo"
      },
      "source": [
        "## Library\n",
        "* sekumpulan kode yang memiliki fungsi-fungsi tertentu dan dapat dipanggil kedalam program lain"
      ]
    },
    {
      "cell_type": "code",
      "execution_count": null,
      "metadata": {
        "colab": {
          "base_uri": "https://localhost:8080/"
        },
        "id": "TSOZSlkynbhm",
        "outputId": "5afb5b35-aa3a-482b-d376-a42fec0281b6"
      },
      "outputs": [
        {
          "name": "stdout",
          "output_type": "stream",
          "text": [
            "[10 20 30 40 50]\n"
          ]
        }
      ],
      "source": [
        "# deklarasi library dengan fungsi yang ada didalamnya\n",
        "import numpy as np\n",
        "\n",
        "# inisialiasi vector dan nilai skalar\n",
        "list1 = [1,2,3,4,5]\n",
        "vtr1 = np.array(list1)\n",
        "scalar_value = 10\n",
        "\n",
        "#operasi perkalian vector-scalar\n",
        "vtr_scalar = vtr1 * scalar_value\n",
        "print(vtr_scalar)"
      ]
    },
    {
      "cell_type": "code",
      "execution_count": null,
      "metadata": {
        "colab": {
          "base_uri": "https://localhost:8080/",
          "height": 206
        },
        "id": "9NGJjYs5pDnA",
        "outputId": "5e0fcc07-1e52-4ce5-8632-dd08260b3582"
      },
      "outputs": [
        {
          "data": {
            "text/html": [
              "\n",
              "  <div id=\"df-266bb5d7-8fc1-4eeb-b5b4-a8763eb170ae\">\n",
              "    <div class=\"colab-df-container\">\n",
              "      <div>\n",
              "<style scoped>\n",
              "    .dataframe tbody tr th:only-of-type {\n",
              "        vertical-align: middle;\n",
              "    }\n",
              "\n",
              "    .dataframe tbody tr th {\n",
              "        vertical-align: top;\n",
              "    }\n",
              "\n",
              "    .dataframe thead th {\n",
              "        text-align: right;\n",
              "    }\n",
              "</style>\n",
              "<table border=\"1\" class=\"dataframe\">\n",
              "  <thead>\n",
              "    <tr style=\"text-align: right;\">\n",
              "      <th></th>\n",
              "      <th>nilai</th>\n",
              "    </tr>\n",
              "  </thead>\n",
              "  <tbody>\n",
              "    <tr>\n",
              "      <th>0</th>\n",
              "      <td>70</td>\n",
              "    </tr>\n",
              "    <tr>\n",
              "      <th>1</th>\n",
              "      <td>80</td>\n",
              "    </tr>\n",
              "    <tr>\n",
              "      <th>2</th>\n",
              "      <td>90</td>\n",
              "    </tr>\n",
              "    <tr>\n",
              "      <th>3</th>\n",
              "      <td>100</td>\n",
              "    </tr>\n",
              "    <tr>\n",
              "      <th>4</th>\n",
              "      <td>85</td>\n",
              "    </tr>\n",
              "  </tbody>\n",
              "</table>\n",
              "</div>\n",
              "      <button class=\"colab-df-convert\" onclick=\"convertToInteractive('df-266bb5d7-8fc1-4eeb-b5b4-a8763eb170ae')\"\n",
              "              title=\"Convert this dataframe to an interactive table.\"\n",
              "              style=\"display:none;\">\n",
              "        \n",
              "  <svg xmlns=\"http://www.w3.org/2000/svg\" height=\"24px\"viewBox=\"0 0 24 24\"\n",
              "       width=\"24px\">\n",
              "    <path d=\"M0 0h24v24H0V0z\" fill=\"none\"/>\n",
              "    <path d=\"M18.56 5.44l.94 2.06.94-2.06 2.06-.94-2.06-.94-.94-2.06-.94 2.06-2.06.94zm-11 1L8.5 8.5l.94-2.06 2.06-.94-2.06-.94L8.5 2.5l-.94 2.06-2.06.94zm10 10l.94 2.06.94-2.06 2.06-.94-2.06-.94-.94-2.06-.94 2.06-2.06.94z\"/><path d=\"M17.41 7.96l-1.37-1.37c-.4-.4-.92-.59-1.43-.59-.52 0-1.04.2-1.43.59L10.3 9.45l-7.72 7.72c-.78.78-.78 2.05 0 2.83L4 21.41c.39.39.9.59 1.41.59.51 0 1.02-.2 1.41-.59l7.78-7.78 2.81-2.81c.8-.78.8-2.07 0-2.86zM5.41 20L4 18.59l7.72-7.72 1.47 1.35L5.41 20z\"/>\n",
              "  </svg>\n",
              "      </button>\n",
              "      \n",
              "  <style>\n",
              "    .colab-df-container {\n",
              "      display:flex;\n",
              "      flex-wrap:wrap;\n",
              "      gap: 12px;\n",
              "    }\n",
              "\n",
              "    .colab-df-convert {\n",
              "      background-color: #E8F0FE;\n",
              "      border: none;\n",
              "      border-radius: 50%;\n",
              "      cursor: pointer;\n",
              "      display: none;\n",
              "      fill: #1967D2;\n",
              "      height: 32px;\n",
              "      padding: 0 0 0 0;\n",
              "      width: 32px;\n",
              "    }\n",
              "\n",
              "    .colab-df-convert:hover {\n",
              "      background-color: #E2EBFA;\n",
              "      box-shadow: 0px 1px 2px rgba(60, 64, 67, 0.3), 0px 1px 3px 1px rgba(60, 64, 67, 0.15);\n",
              "      fill: #174EA6;\n",
              "    }\n",
              "\n",
              "    [theme=dark] .colab-df-convert {\n",
              "      background-color: #3B4455;\n",
              "      fill: #D2E3FC;\n",
              "    }\n",
              "\n",
              "    [theme=dark] .colab-df-convert:hover {\n",
              "      background-color: #434B5C;\n",
              "      box-shadow: 0px 1px 3px 1px rgba(0, 0, 0, 0.15);\n",
              "      filter: drop-shadow(0px 1px 2px rgba(0, 0, 0, 0.3));\n",
              "      fill: #FFFFFF;\n",
              "    }\n",
              "  </style>\n",
              "\n",
              "      <script>\n",
              "        const buttonEl =\n",
              "          document.querySelector('#df-266bb5d7-8fc1-4eeb-b5b4-a8763eb170ae button.colab-df-convert');\n",
              "        buttonEl.style.display =\n",
              "          google.colab.kernel.accessAllowed ? 'block' : 'none';\n",
              "\n",
              "        async function convertToInteractive(key) {\n",
              "          const element = document.querySelector('#df-266bb5d7-8fc1-4eeb-b5b4-a8763eb170ae');\n",
              "          const dataTable =\n",
              "            await google.colab.kernel.invokeFunction('convertToInteractive',\n",
              "                                                     [key], {});\n",
              "          if (!dataTable) return;\n",
              "\n",
              "          const docLinkHtml = 'Like what you see? Visit the ' +\n",
              "            '<a target=\"_blank\" href=https://colab.research.google.com/notebooks/data_table.ipynb>data table notebook</a>'\n",
              "            + ' to learn more about interactive tables.';\n",
              "          element.innerHTML = '';\n",
              "          dataTable['output_type'] = 'display_data';\n",
              "          await google.colab.output.renderOutput(dataTable, element);\n",
              "          const docLink = document.createElement('div');\n",
              "          docLink.innerHTML = docLinkHtml;\n",
              "          element.appendChild(docLink);\n",
              "        }\n",
              "      </script>\n",
              "    </div>\n",
              "  </div>\n",
              "  "
            ],
            "text/plain": [
              "   nilai\n",
              "0     70\n",
              "1     80\n",
              "2     90\n",
              "3    100\n",
              "4     85"
            ]
          },
          "execution_count": 14,
          "metadata": {},
          "output_type": "execute_result"
        }
      ],
      "source": [
        "# deklarasi library dengan menggunakan nama alias\n",
        "import pandas as pd\n",
        "\n",
        "# membuat variabel dataframe (df) dengan isi list nilai dan nama kolom \"nilai\"\n",
        "df = pd.DataFrame(nilai, columns=[\"nilai\"])\n",
        "df #dataframe "
      ]
    },
    {
      "cell_type": "markdown",
      "metadata": {
        "id": "2U8Kh0_llmVx"
      },
      "source": [
        "## Tugas "
      ]
    },
    {
      "cell_type": "code",
      "execution_count": 11,
      "metadata": {
        "colab": {
          "base_uri": "https://localhost:8080/"
        },
        "id": "QDfOkg70lmVy",
        "outputId": "3f5a0596-ae8e-4446-e813-41ce9cfe199c"
      },
      "outputs": [
        {
          "output_type": "stream",
          "name": "stdout",
          "text": [
            "Vector 1 * Vector 2 : [ 2  8 18 32 50]\n"
          ]
        }
      ],
      "source": [
        "# deklarasi library\n",
        "import numpy as np\n",
        "\n",
        "# inisialiasi vector\n",
        "vector_1 = np.array([1,2,3,4,5])\n",
        "vector_2 = np.array([2,4,6,8,10])\n",
        "\n",
        "# operasi perkalian\n",
        "hasil = vector_1 * vector_2\n",
        "print(\"Vector 1 * Vector 2 :\",hasil)"
      ]
    },
    {
      "cell_type": "code",
      "execution_count": 10,
      "metadata": {
        "colab": {
          "base_uri": "https://localhost:8080/",
          "height": 175
        },
        "id": "t9AYEBLxlmVy",
        "outputId": "29f823a2-56f0-48a2-c64e-a2d7538c64c2"
      },
      "outputs": [
        {
          "output_type": "execute_result",
          "data": {
            "text/plain": [
              "  mahasiswa  nilai   keterangan\n",
              "0      Andi      7        Lulus\n",
              "1      Budi      6  Belum lulus\n",
              "2      Caca     10        Lulus\n",
              "3      Didi      8        Lulus"
            ],
            "text/html": [
              "\n",
              "  <div id=\"df-88a8fc94-e0fc-4853-bed5-ea9f9f2c4258\">\n",
              "    <div class=\"colab-df-container\">\n",
              "      <div>\n",
              "<style scoped>\n",
              "    .dataframe tbody tr th:only-of-type {\n",
              "        vertical-align: middle;\n",
              "    }\n",
              "\n",
              "    .dataframe tbody tr th {\n",
              "        vertical-align: top;\n",
              "    }\n",
              "\n",
              "    .dataframe thead th {\n",
              "        text-align: right;\n",
              "    }\n",
              "</style>\n",
              "<table border=\"1\" class=\"dataframe\">\n",
              "  <thead>\n",
              "    <tr style=\"text-align: right;\">\n",
              "      <th></th>\n",
              "      <th>mahasiswa</th>\n",
              "      <th>nilai</th>\n",
              "      <th>keterangan</th>\n",
              "    </tr>\n",
              "  </thead>\n",
              "  <tbody>\n",
              "    <tr>\n",
              "      <th>0</th>\n",
              "      <td>Andi</td>\n",
              "      <td>7</td>\n",
              "      <td>Lulus</td>\n",
              "    </tr>\n",
              "    <tr>\n",
              "      <th>1</th>\n",
              "      <td>Budi</td>\n",
              "      <td>6</td>\n",
              "      <td>Belum lulus</td>\n",
              "    </tr>\n",
              "    <tr>\n",
              "      <th>2</th>\n",
              "      <td>Caca</td>\n",
              "      <td>10</td>\n",
              "      <td>Lulus</td>\n",
              "    </tr>\n",
              "    <tr>\n",
              "      <th>3</th>\n",
              "      <td>Didi</td>\n",
              "      <td>8</td>\n",
              "      <td>Lulus</td>\n",
              "    </tr>\n",
              "  </tbody>\n",
              "</table>\n",
              "</div>\n",
              "      <button class=\"colab-df-convert\" onclick=\"convertToInteractive('df-88a8fc94-e0fc-4853-bed5-ea9f9f2c4258')\"\n",
              "              title=\"Convert this dataframe to an interactive table.\"\n",
              "              style=\"display:none;\">\n",
              "        \n",
              "  <svg xmlns=\"http://www.w3.org/2000/svg\" height=\"24px\"viewBox=\"0 0 24 24\"\n",
              "       width=\"24px\">\n",
              "    <path d=\"M0 0h24v24H0V0z\" fill=\"none\"/>\n",
              "    <path d=\"M18.56 5.44l.94 2.06.94-2.06 2.06-.94-2.06-.94-.94-2.06-.94 2.06-2.06.94zm-11 1L8.5 8.5l.94-2.06 2.06-.94-2.06-.94L8.5 2.5l-.94 2.06-2.06.94zm10 10l.94 2.06.94-2.06 2.06-.94-2.06-.94-.94-2.06-.94 2.06-2.06.94z\"/><path d=\"M17.41 7.96l-1.37-1.37c-.4-.4-.92-.59-1.43-.59-.52 0-1.04.2-1.43.59L10.3 9.45l-7.72 7.72c-.78.78-.78 2.05 0 2.83L4 21.41c.39.39.9.59 1.41.59.51 0 1.02-.2 1.41-.59l7.78-7.78 2.81-2.81c.8-.78.8-2.07 0-2.86zM5.41 20L4 18.59l7.72-7.72 1.47 1.35L5.41 20z\"/>\n",
              "  </svg>\n",
              "      </button>\n",
              "      \n",
              "  <style>\n",
              "    .colab-df-container {\n",
              "      display:flex;\n",
              "      flex-wrap:wrap;\n",
              "      gap: 12px;\n",
              "    }\n",
              "\n",
              "    .colab-df-convert {\n",
              "      background-color: #E8F0FE;\n",
              "      border: none;\n",
              "      border-radius: 50%;\n",
              "      cursor: pointer;\n",
              "      display: none;\n",
              "      fill: #1967D2;\n",
              "      height: 32px;\n",
              "      padding: 0 0 0 0;\n",
              "      width: 32px;\n",
              "    }\n",
              "\n",
              "    .colab-df-convert:hover {\n",
              "      background-color: #E2EBFA;\n",
              "      box-shadow: 0px 1px 2px rgba(60, 64, 67, 0.3), 0px 1px 3px 1px rgba(60, 64, 67, 0.15);\n",
              "      fill: #174EA6;\n",
              "    }\n",
              "\n",
              "    [theme=dark] .colab-df-convert {\n",
              "      background-color: #3B4455;\n",
              "      fill: #D2E3FC;\n",
              "    }\n",
              "\n",
              "    [theme=dark] .colab-df-convert:hover {\n",
              "      background-color: #434B5C;\n",
              "      box-shadow: 0px 1px 3px 1px rgba(0, 0, 0, 0.15);\n",
              "      filter: drop-shadow(0px 1px 2px rgba(0, 0, 0, 0.3));\n",
              "      fill: #FFFFFF;\n",
              "    }\n",
              "  </style>\n",
              "\n",
              "      <script>\n",
              "        const buttonEl =\n",
              "          document.querySelector('#df-88a8fc94-e0fc-4853-bed5-ea9f9f2c4258 button.colab-df-convert');\n",
              "        buttonEl.style.display =\n",
              "          google.colab.kernel.accessAllowed ? 'block' : 'none';\n",
              "\n",
              "        async function convertToInteractive(key) {\n",
              "          const element = document.querySelector('#df-88a8fc94-e0fc-4853-bed5-ea9f9f2c4258');\n",
              "          const dataTable =\n",
              "            await google.colab.kernel.invokeFunction('convertToInteractive',\n",
              "                                                     [key], {});\n",
              "          if (!dataTable) return;\n",
              "\n",
              "          const docLinkHtml = 'Like what you see? Visit the ' +\n",
              "            '<a target=\"_blank\" href=https://colab.research.google.com/notebooks/data_table.ipynb>data table notebook</a>'\n",
              "            + ' to learn more about interactive tables.';\n",
              "          element.innerHTML = '';\n",
              "          dataTable['output_type'] = 'display_data';\n",
              "          await google.colab.output.renderOutput(dataTable, element);\n",
              "          const docLink = document.createElement('div');\n",
              "          docLink.innerHTML = docLinkHtml;\n",
              "          element.appendChild(docLink);\n",
              "        }\n",
              "      </script>\n",
              "    </div>\n",
              "  </div>\n",
              "  "
            ]
          },
          "metadata": {},
          "execution_count": 10
        }
      ],
      "source": [
        "# deklarasi library\n",
        "import pandas as pd\n",
        "\n",
        "mahasiswa=['Andi','Budi','Caca','Didi']\n",
        "nilai=[7,6,10,8]\n",
        "keterangan=[]\n",
        "\n",
        "#perulangan untuk menentukan masing-masing mahasiswa apakah lulus atau tidak\n",
        "for i in nilai:\n",
        "  if i < 7:\n",
        "    keterangan.append(\"Belum lulus\")\n",
        "  else :\n",
        "    keterangan.append(\"Lulus\")\n",
        "\n",
        "df=pd.DataFrame({\"mahasiswa\":mahasiswa,\"nilai\":nilai,\"keterangan\":keterangan})\n",
        "\n",
        "#menampilkan data dengan tabel\n",
        "df #DataFrame"
      ]
    },
    {
      "cell_type": "code",
      "execution_count": 16,
      "metadata": {
        "colab": {
          "base_uri": "https://localhost:8080/"
        },
        "id": "QdDVZGvvlmVy",
        "outputId": "5302f07b-d5cc-4db5-9d22-23a87eb1bb8d"
      },
      "outputs": [
        {
          "output_type": "stream",
          "name": "stdout",
          "text": [
            "75.0 %\n"
          ]
        }
      ],
      "source": [
        "# deklarasi library\n",
        "import pandas as pd\n",
        "\n",
        "mahasiswa=['Andi','Budi','Caca','Didi']\n",
        "nilai=[7,6,10,8]\n",
        "keterangan=[]\n",
        "\n",
        "#perulangan untuk menentukan masing-masing mahasiswa apakah lulus atau tidak\n",
        "for i in nilai:\n",
        "  if i < 7:\n",
        "    keterangan.append(\"Belum lulus\")\n",
        "  else :\n",
        "    keterangan.append(\"Lulus\")\n",
        "\n",
        "df=pd.DataFrame({\"mahasiswa\":mahasiswa,\"nilai\":nilai,\"keterangan\":keterangan})\n",
        "\n",
        "# menentukan persentase  \n",
        "persentase_lulus = (len(df[df['keterangan'] == 'Lulus'])/len(df))*100\n",
        "print(persentase_lulus,\"%\")"
      ]
    }
  ],
  "metadata": {
    "colab": {
      "provenance": []
    },
    "kernelspec": {
      "display_name": "Python 3",
      "name": "python3"
    },
    "language_info": {
      "name": "python"
    }
  },
  "nbformat": 4,
  "nbformat_minor": 0
}